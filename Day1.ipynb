{
  "nbformat": 4,
  "nbformat_minor": 0,
  "metadata": {
    "colab": {
      "name": "Day1.ipynb",
      "provenance": [],
      "collapsed_sections": [],
      "authorship_tag": "ABX9TyOGcG/h+wZOphodAFqlziIr",
      "include_colab_link": true
    },
    "kernelspec": {
      "name": "python3",
      "display_name": "Python 3"
    },
    "language_info": {
      "name": "python"
    }
  },
  "cells": [
    {
      "cell_type": "markdown",
      "metadata": {
        "id": "view-in-github",
        "colab_type": "text"
      },
      "source": [
        "<a href=\"https://colab.research.google.com/github/HakanOzguc/git-workshop/blob/main/Day1.ipynb\" target=\"_parent\"><img src=\"https://colab.research.google.com/assets/colab-badge.svg\" alt=\"Open In Colab\"/></a>"
      ]
    },
    {
      "cell_type": "markdown",
      "metadata": {
        "id": "vvI1MbNDWMJm"
      },
      "source": [
        "Try to find out if a number you get from the user is perfect. A number is called a \"perfect number\" if the sum of its divisors is equal to itself. For example, 6 is a perfect number. (1 + 2 + 3 = 6)"
      ]
    },
    {
      "cell_type": "code",
      "metadata": {
        "id": "SWz7PNehWOCG"
      },
      "source": [
        "num = int (input ('Give a number = '))\n",
        "count = num-1\n",
        "sum = 0\n",
        "while count > 0 :\n",
        "  if num % count == 0 : \n",
        "    sum = sum + count\n",
        "  count -= 1\n",
        "\n",
        "if sum == num :\n",
        "  print (f'{num} is a perfect number')\n",
        "else : print (f'{num} is not a perfect number')"
      ],
      "execution_count": null,
      "outputs": []
    }
  ]
}